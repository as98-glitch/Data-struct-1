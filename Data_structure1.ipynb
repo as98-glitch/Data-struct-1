{
  "nbformat": 4,
  "nbformat_minor": 0,
  "metadata": {
    "colab": {
      "provenance": []
    },
    "kernelspec": {
      "name": "python3",
      "display_name": "Python 3"
    },
    "language_info": {
      "name": "python"
    }
  },
  "cells": [
    {
      "cell_type": "markdown",
      "source": [
        "  Q1. What are data structures, and why are they important?\n",
        "  - Data structures are systematic ways to organize, manage, and store data in order to facilitate efficient access and modification. They define the layout of data, the relationships between different data elements, and the operations that can be performed on the data.\n",
        "  "
      ],
      "metadata": {
        "id": "84N4jyLhfpQI"
      }
    },
    {
      "cell_type": "markdown",
      "source": [
        "Q2. Explain the difference between mutable and immutable data types with examples.\n",
        " - Python’s mutable objects, such as lists and dictionaries, allow you to change their value or data directly without affecting their identity. In contrast, immutable objects, like tuples and strings, don’t allow in-place modifications."
      ],
      "metadata": {
        "id": "ztAxzaDrgq9c"
      }
    },
    {
      "cell_type": "markdown",
      "source": [
        "Q3.What are the main differences between lists and tuples in Python?\n",
        " - Lists are mutable while tuples are immutable."
      ],
      "metadata": {
        "id": "KixknN2eg7MV"
      }
    },
    {
      "cell_type": "markdown",
      "source": [
        "Q4.Describe how dictionaries store data.\n",
        " - Dictionaries in Python are a built-in data structure that store data in key-value pairs."
      ],
      "metadata": {
        "id": "TVnWOlrQhH2p"
      }
    },
    {
      "cell_type": "markdown",
      "source": [
        "Q5.Why might you use a set instead of a list in Python?\n",
        " - Set: Automatically ensures all elements are unique. If you need to store only distinct items, a set is ideal.\n",
        "List: Allows duplicates, so you would need additional logic to remove or check for duplicates."
      ],
      "metadata": {
        "id": "wsCInluEhU1T"
      }
    },
    {
      "cell_type": "markdown",
      "source": [
        "Q6.What is a string in Python, and how is it different from a list?\n",
        " - String is coded in single chord or double chord and there are immutable while lists are mutable and can contain all variables."
      ],
      "metadata": {
        "id": "1fcZ-6HbhqPI"
      }
    },
    {
      "cell_type": "markdown",
      "source": [
        "Q7.How do tuples ensure data integrity in Python?\n",
        " - Once a tuple is created, its elements cannot be modified, added, or removed. This ensures that the data remains consistent and unaltered throughout the program's execution."
      ],
      "metadata": {
        "id": "xvoMmqAGh-WO"
      }
    },
    {
      "cell_type": "markdown",
      "source": [
        "Q8.What is a hash table, and how does it relate to dictionaries in Python?\n",
        " - A hashtable is a specific way to implement a dictionary.\n",
        "\n",
        "Besides hashtables, another common way to implement dictionaries is red-black trees."
      ],
      "metadata": {
        "id": "IZ-xujpZiMEN"
      }
    },
    {
      "cell_type": "markdown",
      "source": [
        "Q9.Can lists contain different data types in Python?\n",
        " - Yes"
      ],
      "metadata": {
        "id": "xCw0yfh5iZS-"
      }
    },
    {
      "cell_type": "markdown",
      "source": [
        "Q10.Explain why strings are immutable in Python?\n",
        " - 1. Memory Efficiency\n",
        "2. Thread Safety\n",
        "3. Hashability\n",
        "4. Predictability and Simplicity\n"
      ],
      "metadata": {
        "id": "UrZRluCqijQr"
      }
    },
    {
      "cell_type": "markdown",
      "source": [
        "Q11. What advantages do dictionaries offer over lists for certain tasks?\n",
        " - it allows the dupliated,quick access by indexing and slicing.\n"
      ],
      "metadata": {
        "id": "FAQyGQbAjEmP"
      }
    },
    {
      "cell_type": "markdown",
      "source": [
        "Q12.Describe a scenario where using a tuple would be preferable over a list.\n",
        " - When we want faster access to data that will not change as tuples are faster than lists. When we want to use the data as a key in a dictionary. Tuples can be used as keys in a dictionary, but lists cannot."
      ],
      "metadata": {
        "id": "7OLbuMBljUzW"
      }
    },
    {
      "cell_type": "markdown",
      "source": [
        "Q13.How do sets handle duplicate values in Python?\n",
        " -  A set is an unordered collection of unique elements, meaning it does not allow duplicates. If you attempt to add duplicate values to a set, Python will only keep one instance of each unique value."
      ],
      "metadata": {
        "id": "pQqM0-x5jjCs"
      }
    },
    {
      "cell_type": "markdown",
      "source": [
        "Q14.How does the “in” keyword work differently for lists and dictionaries?\n",
        " - The in keyword checks if a specific value exists as an element in the list.\n",
        "  in dict the in keyword checks if a specific value exists as a key in the dictionary, not the values."
      ],
      "metadata": {
        "id": "CmTZsx0Mj0Aw"
      }
    },
    {
      "cell_type": "markdown",
      "source": [
        "Q15.Can you modify the elements of a tuple? Explain why or why not.\n",
        " - No, because tuples are immutable."
      ],
      "metadata": {
        "id": "ipvvAMiWkP67"
      }
    },
    {
      "cell_type": "markdown",
      "source": [
        "Q16.What is a nested dictionary, and give an example of its use case?\n",
        " - A nested dictionary in Python is a dictionary inside another dictionary. This allows you to store complex data structures in a single dictionary."
      ],
      "metadata": {
        "id": "uHxdSrX5kbjr"
      }
    },
    {
      "cell_type": "markdown",
      "source": [
        "Q17.Describe the time complexity of accessing elements in a dictionary.\n",
        " - my_dict = {'a': 1, 'b': 2, 'c': 3}\n",
        "value = my_dict['b']\n",
        "print(value)"
      ],
      "metadata": {
        "id": "p-3usYcDkt0B"
      }
    },
    {
      "cell_type": "markdown",
      "source": [
        "Q18.In what situations are lists preferred over dictionaries?\n",
        " - For sequential access and storage efficiency, lists are preferable."
      ],
      "metadata": {
        "id": "f0eSZB4HlAEV"
      }
    },
    {
      "cell_type": "markdown",
      "source": [
        "Q19.Why are dictionaries considered unordered, and how does that affect data retrieval?\n",
        " - because they do not guarantee any specific order of their elements based on insertion or key values."
      ],
      "metadata": {
        "id": "4R51OeeHlLCV"
      }
    },
    {
      "cell_type": "markdown",
      "source": [
        "Q20.Explain the difference between a list and a dictionary in terms of data retrieval.\n",
        " - 1. Lists in Python are ordered collections of items, whereas dictionaries are unordered collections of items that are accessed by keys.\n",
        "  2. List elements are accessed by index numbers, whereas dictionary elements are accessed by keys that can be of any immutable data type.\n"
      ],
      "metadata": {
        "id": "QOtWmopIlWOa"
      }
    },
    {
      "cell_type": "markdown",
      "source": [
        "**Q1. Write a code to create a string with your name and print it.**"
      ],
      "metadata": {
        "id": "8kOST8v3xXm6"
      }
    },
    {
      "cell_type": "code",
      "source": [
        "name=\"ashish\"\n",
        "print(name)"
      ],
      "metadata": {
        "colab": {
          "base_uri": "https://localhost:8080/"
        },
        "id": "HXp0wAe3ln99",
        "outputId": "8442a432-61cc-4724-82cd-85b1dc95d1c9"
      },
      "execution_count": null,
      "outputs": [
        {
          "output_type": "stream",
          "name": "stdout",
          "text": [
            "ashish\n"
          ]
        }
      ]
    },
    {
      "cell_type": "markdown",
      "source": [
        "**Q2.Write a code to find the length of the string \"Hello World\".**"
      ],
      "metadata": {
        "id": "f9ea_9WCxhma"
      }
    },
    {
      "cell_type": "code",
      "source": [
        "x=\"hello world\"\n",
        "len(x)"
      ],
      "metadata": {
        "colab": {
          "base_uri": "https://localhost:8080/"
        },
        "id": "hnngtte5l3Y-",
        "outputId": "c51cad3e-1a08-4f47-e787-3a8555b0c180"
      },
      "execution_count": null,
      "outputs": [
        {
          "output_type": "execute_result",
          "data": {
            "text/plain": [
              "11"
            ]
          },
          "metadata": {},
          "execution_count": 4
        }
      ]
    },
    {
      "cell_type": "markdown",
      "source": [
        "**Q3.Write a code to slice the first 3 characters from the string \"Python Programming\".**"
      ],
      "metadata": {
        "id": "OyKoXbIYx2OT"
      }
    },
    {
      "cell_type": "code",
      "source": [
        "str=\"python programming\"\n",
        "slice=str[0:3]\n",
        "print(slice)"
      ],
      "metadata": {
        "colab": {
          "base_uri": "https://localhost:8080/"
        },
        "id": "Jh4RzZ_5mCXD",
        "outputId": "4fc89880-e8e1-4e86-871a-6e815b95fa16"
      },
      "execution_count": 1,
      "outputs": [
        {
          "output_type": "stream",
          "name": "stdout",
          "text": [
            "pyt\n"
          ]
        }
      ]
    },
    {
      "cell_type": "markdown",
      "source": [
        "**Q4.Write a code to convert the string \"hello\" to uppercase.**"
      ],
      "metadata": {
        "id": "Yytfaa6fyE68"
      }
    },
    {
      "cell_type": "code",
      "source": [
        "x=\"hello\"\n",
        "x.upper()"
      ],
      "metadata": {
        "colab": {
          "base_uri": "https://localhost:8080/",
          "height": 36
        },
        "id": "ITvxGue-maqx",
        "outputId": "2dd4f8a7-cf20-4c2b-bdcf-9c53cefde4ec"
      },
      "execution_count": null,
      "outputs": [
        {
          "output_type": "execute_result",
          "data": {
            "text/plain": [
              "'HELLO'"
            ],
            "application/vnd.google.colaboratory.intrinsic+json": {
              "type": "string"
            }
          },
          "metadata": {},
          "execution_count": 8
        }
      ]
    },
    {
      "cell_type": "markdown",
      "source": [
        "**Q5.Write a code to replace the word \"apple\" with \"orange\" in the string \"I like apple\".**"
      ],
      "metadata": {
        "id": "_BPwe4zhyLQv"
      }
    },
    {
      "cell_type": "code",
      "source": [
        "string = \"I like apple\"\n",
        "new_string = string.replace(\"apple\", \"orange\")\n",
        "print(new_string)"
      ],
      "metadata": {
        "colab": {
          "base_uri": "https://localhost:8080/"
        },
        "id": "4Y2xT2MPmoL7",
        "outputId": "3f1de6dd-f5ce-43b0-bf86-8747819ba4b9"
      },
      "execution_count": null,
      "outputs": [
        {
          "output_type": "stream",
          "name": "stdout",
          "text": [
            "I like orange\n"
          ]
        }
      ]
    },
    {
      "cell_type": "markdown",
      "source": [
        "**Q6.Write a code to create a list with numbers 1 to 5 and print it.**"
      ],
      "metadata": {
        "id": "RLYQQBbwyR0N"
      }
    },
    {
      "cell_type": "code",
      "source": [
        "x=[1,2,3,4,5]\n",
        "print(x)"
      ],
      "metadata": {
        "colab": {
          "base_uri": "https://localhost:8080/"
        },
        "id": "CI7-firKm8is",
        "outputId": "574fd394-ea16-489e-86ec-0279fb38ed66"
      },
      "execution_count": null,
      "outputs": [
        {
          "output_type": "stream",
          "name": "stdout",
          "text": [
            "[1, 2, 3, 4, 5]\n"
          ]
        }
      ]
    },
    {
      "cell_type": "markdown",
      "source": [
        "**Q7.Write a code to append the number 10 to the list [1, 2, 3, 4].**"
      ],
      "metadata": {
        "id": "qcUfllUpyXnh"
      }
    },
    {
      "cell_type": "code",
      "source": [
        "x=[1,2,3,4]\n",
        "x.append(10)\n",
        "print(x)"
      ],
      "metadata": {
        "colab": {
          "base_uri": "https://localhost:8080/"
        },
        "id": "Ar5Oa_MTnLl6",
        "outputId": "992bc16e-d436-4576-ac94-5dd483c18c9d"
      },
      "execution_count": null,
      "outputs": [
        {
          "output_type": "stream",
          "name": "stdout",
          "text": [
            "[1, 2, 3, 4, 10]\n"
          ]
        }
      ]
    },
    {
      "cell_type": "markdown",
      "source": [
        "**Q8.Write a code to remove the number 3 from the list [1, 2, 3, 4, 5].**"
      ],
      "metadata": {
        "id": "j8dwLi81ydIm"
      }
    },
    {
      "cell_type": "code",
      "source": [
        "\n",
        "\n",
        "x=[1,2,3,4,5]\n",
        "x.remove(3)\n",
        "print(x)"
      ],
      "metadata": {
        "colab": {
          "base_uri": "https://localhost:8080/"
        },
        "id": "AvRlVcHTnYnU",
        "outputId": "61f9e21a-53ca-44a6-b313-4ddae8781a3a"
      },
      "execution_count": null,
      "outputs": [
        {
          "output_type": "stream",
          "name": "stdout",
          "text": [
            "[1, 2, 4, 5]\n"
          ]
        }
      ]
    },
    {
      "cell_type": "markdown",
      "source": [
        "**Q9.Write a code to access the second element in the list ['a', 'b', 'c', 'd'].**"
      ],
      "metadata": {
        "id": "i1VDB4cKyubf"
      }
    },
    {
      "cell_type": "code",
      "source": [
        "x=['a','b','c','d']\n",
        "x[1]"
      ],
      "metadata": {
        "colab": {
          "base_uri": "https://localhost:8080/",
          "height": 36
        },
        "id": "w3pTf-Menie9",
        "outputId": "726166e9-97b4-4ae8-8cc0-98f9c2e1130f"
      },
      "execution_count": null,
      "outputs": [
        {
          "output_type": "execute_result",
          "data": {
            "text/plain": [
              "'b'"
            ],
            "application/vnd.google.colaboratory.intrinsic+json": {
              "type": "string"
            }
          },
          "metadata": {},
          "execution_count": 16
        }
      ]
    },
    {
      "cell_type": "markdown",
      "source": [
        "**Q10.Write a code to reverse the list [10, 20, 30, 40, 50].**"
      ],
      "metadata": {
        "id": "7IvqsEs_y2g4"
      }
    },
    {
      "cell_type": "code",
      "source": [
        "x=[10,20,30,40,50]\n",
        "x.reverse()\n",
        "print(x)\n"
      ],
      "metadata": {
        "colab": {
          "base_uri": "https://localhost:8080/"
        },
        "id": "9w2PknqMnrrw",
        "outputId": "936758eb-4444-48ad-d1b8-f950f7dd1521"
      },
      "execution_count": null,
      "outputs": [
        {
          "output_type": "stream",
          "name": "stdout",
          "text": [
            "[50, 40, 30, 20, 10]\n"
          ]
        }
      ]
    },
    {
      "cell_type": "markdown",
      "source": [
        "**Q11.Write a code to create a tuple with the elements 100, 200, 300 and print it.**"
      ],
      "metadata": {
        "id": "FaDwWyq2y9K2"
      }
    },
    {
      "cell_type": "code",
      "source": [
        "x=(100,200,300)\n",
        "print(x)"
      ],
      "metadata": {
        "colab": {
          "base_uri": "https://localhost:8080/"
        },
        "id": "OCgnjD8KnyxK",
        "outputId": "1580cb22-bcfb-412a-9802-32df06f3cef9"
      },
      "execution_count": null,
      "outputs": [
        {
          "output_type": "stream",
          "name": "stdout",
          "text": [
            "(100, 200, 300)\n"
          ]
        }
      ]
    },
    {
      "cell_type": "markdown",
      "source": [
        "**Q12.Write a code to access the second-to-last element of the tuple ('red', 'green', 'blue', 'yellow').**"
      ],
      "metadata": {
        "id": "ao0mD4RTzHk6"
      }
    },
    {
      "cell_type": "code",
      "source": [
        "x=('red','green','blue','yellow')\n",
        "x[-2]"
      ],
      "metadata": {
        "colab": {
          "base_uri": "https://localhost:8080/",
          "height": 36
        },
        "id": "YCH1gbyNn695",
        "outputId": "7e24677f-0c1d-48dd-fb60-0068f91627f6"
      },
      "execution_count": null,
      "outputs": [
        {
          "output_type": "execute_result",
          "data": {
            "text/plain": [
              "'blue'"
            ],
            "application/vnd.google.colaboratory.intrinsic+json": {
              "type": "string"
            }
          },
          "metadata": {},
          "execution_count": 19
        }
      ]
    },
    {
      "cell_type": "markdown",
      "source": [
        "**Q13.Write a code to find the minimum number in the tuple (10, 20, 5, 15).**\n"
      ],
      "metadata": {
        "id": "9IN8SM73zPMF"
      }
    },
    {
      "cell_type": "code",
      "source": [
        "x=(10,20,5,15)\n",
        "min(x)"
      ],
      "metadata": {
        "colab": {
          "base_uri": "https://localhost:8080/"
        },
        "id": "0MY809meoDHc",
        "outputId": "76be3a25-6c39-4656-d4fe-12d2e4e16aec"
      },
      "execution_count": null,
      "outputs": [
        {
          "output_type": "execute_result",
          "data": {
            "text/plain": [
              "5"
            ]
          },
          "metadata": {},
          "execution_count": 20
        }
      ]
    },
    {
      "cell_type": "markdown",
      "source": [
        "**Q14.Write a code to find the index of the element \"cat\" in the tuple ('dog', 'cat', 'rabbit').**"
      ],
      "metadata": {
        "id": "-CJr9x0pzU0e"
      }
    },
    {
      "cell_type": "code",
      "source": [
        "x=('dog','cat','rabbit')\n",
        "x.index('cat')"
      ],
      "metadata": {
        "colab": {
          "base_uri": "https://localhost:8080/"
        },
        "id": "yyRzofb4oMTa",
        "outputId": "3e32a7de-8218-47c0-e84c-4b0798419c73"
      },
      "execution_count": null,
      "outputs": [
        {
          "output_type": "execute_result",
          "data": {
            "text/plain": [
              "1"
            ]
          },
          "metadata": {},
          "execution_count": 21
        }
      ]
    },
    {
      "cell_type": "markdown",
      "source": [
        "**Q15Write a code to create a tuple containing three different fruits and check if \"kiwi\" is in it.**"
      ],
      "metadata": {
        "id": "bDxHHCDm06oT"
      }
    },
    {
      "cell_type": "code",
      "source": [
        "x=('apple','banana','kiwi')\n",
        "'kiwi' in x\n"
      ],
      "metadata": {
        "colab": {
          "base_uri": "https://localhost:8080/"
        },
        "id": "rlzaF-PnoSf-",
        "outputId": "6209fb12-8b7c-4f6c-d794-ec0bd51ad21c"
      },
      "execution_count": null,
      "outputs": [
        {
          "output_type": "execute_result",
          "data": {
            "text/plain": [
              "True"
            ]
          },
          "metadata": {},
          "execution_count": 22
        }
      ]
    },
    {
      "cell_type": "markdown",
      "source": [
        "**Q16.Write a code to create a set with the elements 'a', 'b', 'c' and print it.**"
      ],
      "metadata": {
        "id": "S2M3Qp7uzbTy"
      }
    },
    {
      "cell_type": "code",
      "source": [
        "x={'a','b','c'}\n",
        "print(x)"
      ],
      "metadata": {
        "colab": {
          "base_uri": "https://localhost:8080/"
        },
        "id": "O0wvsv3toiMS",
        "outputId": "f8fa9085-0225-455c-cbcb-726ac3eaf9e2"
      },
      "execution_count": null,
      "outputs": [
        {
          "output_type": "stream",
          "name": "stdout",
          "text": [
            "{'a', 'b', 'c'}\n"
          ]
        }
      ]
    },
    {
      "cell_type": "markdown",
      "source": [
        "**Q17.Write a code to clear all elements from the set {1, 2, 3, 4, 5}.**"
      ],
      "metadata": {
        "id": "UIWoLBLZzhbq"
      }
    },
    {
      "cell_type": "code",
      "source": [
        "x={1,2,3,4,5}\n",
        "x.clear()\n",
        "print(x)"
      ],
      "metadata": {
        "colab": {
          "base_uri": "https://localhost:8080/"
        },
        "id": "fiJb65xiongy",
        "outputId": "c1b11ced-81f5-497f-e25c-bfbda0268bd4"
      },
      "execution_count": null,
      "outputs": [
        {
          "output_type": "stream",
          "name": "stdout",
          "text": [
            "set()\n"
          ]
        }
      ]
    },
    {
      "cell_type": "markdown",
      "source": [
        "**Q18.Write a code to remove the element 4 from the set {1, 2, 3, 4}.**"
      ],
      "metadata": {
        "id": "KeeSB9zhzmYj"
      }
    },
    {
      "cell_type": "code",
      "source": [
        "x={1,2,3,4}\n",
        "x.remove(4)\n",
        "print(x)"
      ],
      "metadata": {
        "colab": {
          "base_uri": "https://localhost:8080/"
        },
        "id": "8c4hqPauotU2",
        "outputId": "53e98dc2-ac71-40ef-808b-581888cb18b6"
      },
      "execution_count": null,
      "outputs": [
        {
          "output_type": "stream",
          "name": "stdout",
          "text": [
            "{1, 2, 3}\n"
          ]
        }
      ]
    },
    {
      "cell_type": "markdown",
      "source": [
        "**Q19.Write a code to find the union of two sets {1, 2, 3} and {3, 4, 5}.**"
      ],
      "metadata": {
        "id": "iHmJmkoXzt1D"
      }
    },
    {
      "cell_type": "code",
      "source": [
        "x={1,2,3}\n",
        "y={3,4,5}\n",
        "x.union(y)"
      ],
      "metadata": {
        "colab": {
          "base_uri": "https://localhost:8080/"
        },
        "id": "4qXmU1QhozGS",
        "outputId": "8dbd4c32-f3f2-4091-a082-03b8177feab4"
      },
      "execution_count": null,
      "outputs": [
        {
          "output_type": "execute_result",
          "data": {
            "text/plain": [
              "{1, 2, 3, 4, 5}"
            ]
          },
          "metadata": {},
          "execution_count": 26
        }
      ]
    },
    {
      "cell_type": "markdown",
      "source": [
        "**Q20.Write a code to find the intersection of two sets {1, 2, 3} and {2, 3, 4}.**\n"
      ],
      "metadata": {
        "id": "2TW5X9Spz0KM"
      }
    },
    {
      "cell_type": "code",
      "source": [
        "x={1,2,3}\n",
        "y={2,3,4}\n",
        "x.intersection(y)"
      ],
      "metadata": {
        "colab": {
          "base_uri": "https://localhost:8080/"
        },
        "id": "_2n1XPrSo7Lz",
        "outputId": "50bf0c19-578e-438d-94dd-b3a9eb74db09"
      },
      "execution_count": null,
      "outputs": [
        {
          "output_type": "execute_result",
          "data": {
            "text/plain": [
              "{2, 3}"
            ]
          },
          "metadata": {},
          "execution_count": 27
        }
      ]
    },
    {
      "cell_type": "markdown",
      "source": [
        "**Q21.Write a code to create a dictionary with the keys \"name\", \"age\", and \"city\", and print it.**"
      ],
      "metadata": {
        "id": "eFb9IF_Kz98b"
      }
    },
    {
      "cell_type": "code",
      "source": [
        "x={\"name\":\"ashish\",\"age\":20,\"city\":\"pune\"}\n",
        "print(x)"
      ],
      "metadata": {
        "colab": {
          "base_uri": "https://localhost:8080/"
        },
        "id": "WGiAc7aFpBMY",
        "outputId": "f0fc3b46-a6c8-4447-8011-51e50fc50272"
      },
      "execution_count": null,
      "outputs": [
        {
          "output_type": "stream",
          "name": "stdout",
          "text": [
            "{'name': 'ashish', 'age': 20, 'city': 'pune'}\n"
          ]
        }
      ]
    },
    {
      "cell_type": "markdown",
      "source": [
        "**Q22.Write a code to add a new key-value pair \"country\": \"USA\" to the dictionary {'name': 'John', 'age': 25}.**"
      ],
      "metadata": {
        "id": "S3FMO-hG0DlU"
      }
    },
    {
      "cell_type": "code",
      "source": [
        "dict = {'name': 'John', 'age': 25}\n",
        "dict['country'] = 'USA'\n",
        "print(dict)"
      ],
      "metadata": {
        "colab": {
          "base_uri": "https://localhost:8080/"
        },
        "id": "emGBZMw_pJnH",
        "outputId": "9a18d4b4-58ff-4684-d7ef-d3036731c26f"
      },
      "execution_count": null,
      "outputs": [
        {
          "output_type": "stream",
          "name": "stdout",
          "text": [
            "{'name': 'John', 'age': 25, 'country': 'USA'}\n"
          ]
        }
      ]
    },
    {
      "cell_type": "markdown",
      "source": [
        "**Q23.Write a code to access the value associated with the key \"name\" in the dictionary {'name': 'Alice', 'age': 30}.**"
      ],
      "metadata": {
        "id": "0pxOWn0C0KMe"
      }
    },
    {
      "cell_type": "code",
      "source": [
        "x={'name': 'Alice', 'age': 30}\n",
        "x['name']"
      ],
      "metadata": {
        "colab": {
          "base_uri": "https://localhost:8080/",
          "height": 36
        },
        "id": "aYKfVDBEpTp1",
        "outputId": "cf82a838-2de5-414c-ae59-d3ca01c9e0da"
      },
      "execution_count": null,
      "outputs": [
        {
          "output_type": "execute_result",
          "data": {
            "text/plain": [
              "'Alice'"
            ],
            "application/vnd.google.colaboratory.intrinsic+json": {
              "type": "string"
            }
          },
          "metadata": {},
          "execution_count": 30
        }
      ]
    },
    {
      "cell_type": "markdown",
      "source": [
        "**Q24.Write a code to remove the key \"age\" from the dictionary {'name': 'Bob', 'age': 22, 'city': 'New York'}.**"
      ],
      "metadata": {
        "id": "FlbXv2Ft0PNw"
      }
    },
    {
      "cell_type": "code",
      "source": [
        "x={'name': 'Bob', 'age': 22, 'city': 'New York'}\n",
        "del x['age']\n",
        "print(x)"
      ],
      "metadata": {
        "colab": {
          "base_uri": "https://localhost:8080/"
        },
        "id": "CNvzdgLzpaS0",
        "outputId": "ddbc39b0-c3db-4a88-a039-fbd23e632905"
      },
      "execution_count": null,
      "outputs": [
        {
          "output_type": "stream",
          "name": "stdout",
          "text": [
            "{'name': 'Bob', 'city': 'New York'}\n"
          ]
        }
      ]
    },
    {
      "cell_type": "markdown",
      "source": [
        "**Q25.Write a code to check if the key \"city\" exists in the dictionary {'name': 'Alice', 'city': 'Paris'}.**"
      ],
      "metadata": {
        "id": "NTQzZpNW0TiS"
      }
    },
    {
      "cell_type": "code",
      "source": [
        "x={'name': 'Alice', 'city': 'Paris'}\n",
        "'city' in x"
      ],
      "metadata": {
        "colab": {
          "base_uri": "https://localhost:8080/"
        },
        "id": "-UMAPcQbpgx8",
        "outputId": "af742e5a-aad0-4bf2-bbfb-3fa55476e2ca"
      },
      "execution_count": null,
      "outputs": [
        {
          "output_type": "execute_result",
          "data": {
            "text/plain": [
              "True"
            ]
          },
          "metadata": {},
          "execution_count": 32
        }
      ]
    },
    {
      "cell_type": "markdown",
      "source": [
        "**Q26.Write a code to create a list, a tuple, and a dictionary, and print them all.**"
      ],
      "metadata": {
        "id": "uHmF_Da-0YHO"
      }
    },
    {
      "cell_type": "code",
      "source": [
        "x=[1,2,3]\n",
        "print(x)\n",
        "y=(1,2,3)\n",
        "print(y)\n",
        "z={'a':1,'b':2,'c':3}\n",
        "print(z)"
      ],
      "metadata": {
        "colab": {
          "base_uri": "https://localhost:8080/"
        },
        "id": "iKO5FpyEpoNJ",
        "outputId": "8e6b03bf-ccf3-40ce-ed81-6e307145e0b8"
      },
      "execution_count": null,
      "outputs": [
        {
          "output_type": "stream",
          "name": "stdout",
          "text": [
            "[1, 2, 3]\n",
            "(1, 2, 3)\n",
            "{'a': 1, 'b': 2, 'c': 3}\n"
          ]
        }
      ]
    },
    {
      "cell_type": "markdown",
      "source": [
        "**Q27.Write a code to create a list of 5 random numbers between 1 and 100, sort it in ascending order, and print the result.(replaced)**"
      ],
      "metadata": {
        "id": "r0u1_bFk0dUP"
      }
    },
    {
      "cell_type": "code",
      "source": [
        "import random\n",
        "\n",
        "random_numbers = [random.randint(1, 100) for _ in range(5)]\n",
        "random_numbers.sort()\n",
        "print(random_numbers)"
      ],
      "metadata": {
        "colab": {
          "base_uri": "https://localhost:8080/"
        },
        "id": "NVx7FtjXpy_G",
        "outputId": "86a62831-0957-4437-b052-7deab9738475"
      },
      "execution_count": null,
      "outputs": [
        {
          "output_type": "stream",
          "name": "stdout",
          "text": [
            "[21, 21, 55, 93, 97]\n"
          ]
        }
      ]
    },
    {
      "cell_type": "markdown",
      "source": [
        "**Q28.Write a code to create a list with strings and print the element at the third index.**"
      ],
      "metadata": {
        "id": "SyBoO8AA0ieY"
      }
    },
    {
      "cell_type": "code",
      "source": [
        "x=['a','b','c','d']\n",
        "x[3]"
      ],
      "metadata": {
        "colab": {
          "base_uri": "https://localhost:8080/",
          "height": 36
        },
        "id": "1E0AGNpoqDy4",
        "outputId": "06566551-856a-45ad-bb89-254d44452ce3"
      },
      "execution_count": null,
      "outputs": [
        {
          "output_type": "execute_result",
          "data": {
            "text/plain": [
              "'d'"
            ],
            "application/vnd.google.colaboratory.intrinsic+json": {
              "type": "string"
            }
          },
          "metadata": {},
          "execution_count": 35
        }
      ]
    },
    {
      "cell_type": "markdown",
      "source": [
        "**Q29.Write a code to combine two dictionaries into one and print the result.**"
      ],
      "metadata": {
        "id": "tqQJB2fX0nLa"
      }
    },
    {
      "cell_type": "code",
      "source": [
        "x={'a':1,'b':2}\n",
        "y={'c':3,'d':4}\n",
        "z={**x,**y}\n",
        "print(z)"
      ],
      "metadata": {
        "colab": {
          "base_uri": "https://localhost:8080/"
        },
        "id": "Qu7nd9e3qK9m",
        "outputId": "bcd45fd6-1e91-4cf4-fdf7-7d724cb8e846"
      },
      "execution_count": null,
      "outputs": [
        {
          "output_type": "stream",
          "name": "stdout",
          "text": [
            "{'a': 1, 'b': 2, 'c': 3, 'd': 4}\n"
          ]
        }
      ]
    },
    {
      "cell_type": "markdown",
      "source": [
        "**Q30.Write a code to convert a list of strings into a set.**\n"
      ],
      "metadata": {
        "id": "6ig8OqxN0rbh"
      }
    },
    {
      "cell_type": "code",
      "source": [
        "\n",
        "x=['a','b','c']\n",
        "set(x)"
      ],
      "metadata": {
        "colab": {
          "base_uri": "https://localhost:8080/"
        },
        "id": "usIODZkzqS2q",
        "outputId": "3b0da7ae-6832-4c71-c7f8-8463084df84f"
      },
      "execution_count": null,
      "outputs": [
        {
          "output_type": "execute_result",
          "data": {
            "text/plain": [
              "{'a', 'b', 'c'}"
            ]
          },
          "metadata": {},
          "execution_count": 37
        }
      ]
    }
  ]
}